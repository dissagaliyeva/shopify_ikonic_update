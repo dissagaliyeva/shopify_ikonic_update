{
 "cells": [
  {
   "cell_type": "code",
   "execution_count": 1,
   "metadata": {},
   "outputs": [],
   "source": [
    "import pandas as pd\n",
    "import requests\n",
    "from lxml import etree\n",
    "\n",
    "# URL of the XML file\n",
    "url = \"https://www.styleisnow.com/feeds/stock_xml_incremental.xml\"\n",
    "\n",
    "\n",
    "def get_data():\n",
    "\n",
    "    # Send a GET request to fetch the XML content\n",
    "    response = requests.get(url)\n",
    "\n",
    "    # Check if the request was successful\n",
    "    if response.status_code == 200:\n",
    "        # Parse the XML content\n",
    "        root = etree.fromstring(response.content)\n",
    "        \n",
    "        # Find all <item> elements\n",
    "        items = root.findall('.//item')\n",
    "        \n",
    "        # Convert the <item> elements to a list of dictionaries\n",
    "        data = []\n",
    "        for item in items:\n",
    "            item_data = {}\n",
    "            for child in item:\n",
    "                # Remove the namespace from the tag\n",
    "                tag_name = str(child.tag).split('}')[-1]  # Splits the tag at '}' and takes the part after it\n",
    "                item_data[tag_name] = child.text  # Store the tag's text content\n",
    "            data.append(item_data)\n",
    "        \n",
    "        # Convert the list of dictionaries to a DataFrame\n",
    "        df = pd.DataFrame(data)[['id', 'size', 'variant', 'qty']]\n",
    "        df.rename(columns={'id': 'SKU FULL'}, inplace=True)\n",
    "        return df\n",
    "    else:\n",
    "        print(\"Failed to retrieve the XML content\")\n",
    "        return None\n",
    "    "
   ]
  },
  {
   "cell_type": "code",
   "execution_count": 2,
   "metadata": {},
   "outputs": [
    {
     "data": {
      "text/html": [
       "<div>\n",
       "<style scoped>\n",
       "    .dataframe tbody tr th:only-of-type {\n",
       "        vertical-align: middle;\n",
       "    }\n",
       "\n",
       "    .dataframe tbody tr th {\n",
       "        vertical-align: top;\n",
       "    }\n",
       "\n",
       "    .dataframe thead th {\n",
       "        text-align: right;\n",
       "    }\n",
       "</style>\n",
       "<table border=\"1\" class=\"dataframe\">\n",
       "  <thead>\n",
       "    <tr style=\"text-align: right;\">\n",
       "      <th></th>\n",
       "      <th>SKU FULL</th>\n",
       "      <th>size</th>\n",
       "      <th>variant</th>\n",
       "      <th>qty</th>\n",
       "    </tr>\n",
       "  </thead>\n",
       "  <tbody>\n",
       "    <tr>\n",
       "      <th>0</th>\n",
       "      <td>232527ASC000002-9760R-os</td>\n",
       "      <td>OS</td>\n",
       "      <td>ROSE BLUSH BLACK</td>\n",
       "      <td>3</td>\n",
       "    </tr>\n",
       "    <tr>\n",
       "      <th>1</th>\n",
       "      <td>232417LSN000008-1W000-44</td>\n",
       "      <td>44</td>\n",
       "      <td>OPTICAL WHITE</td>\n",
       "      <td>3</td>\n",
       "    </tr>\n",
       "    <tr>\n",
       "      <th>2</th>\n",
       "      <td>232400ABS000035-003NE-os</td>\n",
       "      <td>OS</td>\n",
       "      <td>NERO</td>\n",
       "      <td>3</td>\n",
       "    </tr>\n",
       "    <tr>\n",
       "      <th>3</th>\n",
       "      <td>232527FPC000001-1000-os</td>\n",
       "      <td>OS</td>\n",
       "      <td>BLACK</td>\n",
       "      <td>5</td>\n",
       "    </tr>\n",
       "    <tr>\n",
       "      <th>4</th>\n",
       "      <td>232527NCX000001-9000-41</td>\n",
       "      <td>41</td>\n",
       "      <td>WHITE</td>\n",
       "      <td>1</td>\n",
       "    </tr>\n",
       "    <tr>\n",
       "      <th>...</th>\n",
       "      <td>...</td>\n",
       "      <td>...</td>\n",
       "      <td>...</td>\n",
       "      <td>...</td>\n",
       "    </tr>\n",
       "    <tr>\n",
       "      <th>143</th>\n",
       "      <td>242571NSN000008-90282-37</td>\n",
       "      <td>37</td>\n",
       "      <td>BLACK/SILVER/ICE</td>\n",
       "      <td>1</td>\n",
       "    </tr>\n",
       "    <tr>\n",
       "      <th>144</th>\n",
       "      <td>242571NSN000017-10366-39</td>\n",
       "      <td>39</td>\n",
       "      <td>WHITE/BEIGE/BEIGE BROWN LEO</td>\n",
       "      <td>5</td>\n",
       "    </tr>\n",
       "    <tr>\n",
       "      <th>145</th>\n",
       "      <td>242568XSP000063-BLACK-37</td>\n",
       "      <td>37</td>\n",
       "      <td>BLACK</td>\n",
       "      <td>1</td>\n",
       "    </tr>\n",
       "    <tr>\n",
       "      <th>146</th>\n",
       "      <td>242A43NSN000007-99024-9</td>\n",
       "      <td>9</td>\n",
       "      <td>BLACK   MAGNET</td>\n",
       "      <td>1</td>\n",
       "    </tr>\n",
       "    <tr>\n",
       "      <th>147</th>\n",
       "      <td>242A03NDE000003-70-37</td>\n",
       "      <td>37</td>\n",
       "      <td>RED PATENT</td>\n",
       "      <td>1</td>\n",
       "    </tr>\n",
       "  </tbody>\n",
       "</table>\n",
       "<p>148 rows × 4 columns</p>\n",
       "</div>"
      ],
      "text/plain": [
       "                     SKU FULL size                      variant qty\n",
       "0    232527ASC000002-9760R-os   OS             ROSE BLUSH BLACK   3\n",
       "1    232417LSN000008-1W000-44   44                OPTICAL WHITE   3\n",
       "2    232400ABS000035-003NE-os   OS                         NERO   3\n",
       "3     232527FPC000001-1000-os   OS                        BLACK   5\n",
       "4     232527NCX000001-9000-41   41                        WHITE   1\n",
       "..                        ...  ...                          ...  ..\n",
       "143  242571NSN000008-90282-37   37             BLACK/SILVER/ICE   1\n",
       "144  242571NSN000017-10366-39   39  WHITE/BEIGE/BEIGE BROWN LEO   5\n",
       "145  242568XSP000063-BLACK-37   37                        BLACK   1\n",
       "146   242A43NSN000007-99024-9    9               BLACK   MAGNET   1\n",
       "147     242A03NDE000003-70-37   37                   RED PATENT   1\n",
       "\n",
       "[148 rows x 4 columns]"
      ]
     },
     "execution_count": 2,
     "metadata": {},
     "output_type": "execute_result"
    }
   ],
   "source": [
    "df = get_data()\n",
    "df"
   ]
  },
  {
   "cell_type": "code",
   "execution_count": 14,
   "metadata": {},
   "outputs": [
    {
     "name": "stderr",
     "output_type": "stream",
     "text": [
      "C:\\Users\\dinar\\AppData\\Local\\Temp\\ipykernel_12652\\4172104025.py:3: DtypeWarning: Columns (8,25,32) have mixed types. Specify dtype option on import or set low_memory=False.\n",
      "  other = pd.read_csv('other_products.csv')\n"
     ]
    }
   ],
   "source": [
    "if df is not None:\n",
    "    bags = pd.read_csv('bags.csv')\n",
    "    other = pd.read_csv('other_products.csv')"
   ]
  },
  {
   "cell_type": "code",
   "execution_count": 10,
   "metadata": {},
   "outputs": [
    {
     "name": "stderr",
     "output_type": "stream",
     "text": [
      "C:\\Users\\dinar\\AppData\\Local\\Temp\\ipykernel_12652\\2891837526.py:2: SettingWithCopyWarning: \n",
      "A value is trying to be set on a copy of a slice from a DataFrame.\n",
      "Try using .loc[row_indexer,col_indexer] = value instead\n",
      "\n",
      "See the caveats in the documentation: https://pandas.pydata.org/pandas-docs/stable/user_guide/indexing.html#returning-a-view-versus-a-copy\n",
      "  bags_merged['Qty'] = df[df['SKU FULL'].isin(bags_merged['SKU FULL'])]['qty'].values\n"
     ]
    }
   ],
   "source": [
    "bags_merged = bags[bags['SKU FULL'].isin(df['SKU FULL'])]\n",
    "bags_merged['Qty'] = df[df['SKU FULL'].isin(bags_merged['SKU FULL'])]['qty'].values\n",
    "bags_merged.to_csv('updated_bags.csv', index=False)"
   ]
  },
  {
   "cell_type": "code",
   "execution_count": 16,
   "metadata": {},
   "outputs": [
    {
     "name": "stderr",
     "output_type": "stream",
     "text": [
      "C:\\Users\\dinar\\AppData\\Local\\Temp\\ipykernel_12652\\2691776299.py:2: SettingWithCopyWarning: \n",
      "A value is trying to be set on a copy of a slice from a DataFrame.\n",
      "Try using .loc[row_indexer,col_indexer] = value instead\n",
      "\n",
      "See the caveats in the documentation: https://pandas.pydata.org/pandas-docs/stable/user_guide/indexing.html#returning-a-view-versus-a-copy\n",
      "  other_merged['Qty'] = df[df['SKU FULL'].isin(other_merged['SKU FULL'])]['qty'].values\n"
     ]
    }
   ],
   "source": [
    "other_merged = other[other['SKU FULL'].isin(df['SKU FULL'])]\n",
    "other_merged['Qty'] = df[df['SKU FULL'].isin(other_merged['SKU FULL'])]['qty'].values\n",
    "# other_merged\n",
    "other_merged.to_csv('updated_other.csv', index=False)"
   ]
  },
  {
   "cell_type": "code",
   "execution_count": 17,
   "metadata": {},
   "outputs": [
    {
     "data": {
      "text/plain": [
       "1909      6.0\n",
       "2767      5.0\n",
       "4713      9.0\n",
       "5678      5.0\n",
       "7715      9.0\n",
       "         ... \n",
       "91467    14.0\n",
       "91547     7.0\n",
       "92429    24.0\n",
       "92926     8.0\n",
       "93475    12.0\n",
       "Name: Qty, Length: 77, dtype: float64"
      ]
     },
     "execution_count": 17,
     "metadata": {},
     "output_type": "execute_result"
    }
   ],
   "source": [
    "other[other['SKU FULL'].isin(df['SKU FULL'])]['Qty']"
   ]
  },
  {
   "cell_type": "code",
   "execution_count": 18,
   "metadata": {},
   "outputs": [
    {
     "data": {
      "text/plain": [
       "1909     3\n",
       "2767     5\n",
       "4713     1\n",
       "5678     1\n",
       "7715     1\n",
       "        ..\n",
       "91467    2\n",
       "91547    1\n",
       "92429    5\n",
       "92926    1\n",
       "93475    1\n",
       "Name: Qty, Length: 77, dtype: object"
      ]
     },
     "execution_count": 18,
     "metadata": {},
     "output_type": "execute_result"
    }
   ],
   "source": [
    "other_merged['Qty']"
   ]
  },
  {
   "cell_type": "code",
   "execution_count": null,
   "metadata": {},
   "outputs": [],
   "source": []
  }
 ],
 "metadata": {
  "kernelspec": {
   "display_name": "general",
   "language": "python",
   "name": "python3"
  },
  "language_info": {
   "codemirror_mode": {
    "name": "ipython",
    "version": 3
   },
   "file_extension": ".py",
   "mimetype": "text/x-python",
   "name": "python",
   "nbconvert_exporter": "python",
   "pygments_lexer": "ipython3",
   "version": "3.10.14"
  }
 },
 "nbformat": 4,
 "nbformat_minor": 2
}
