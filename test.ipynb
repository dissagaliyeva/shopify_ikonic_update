{
 "cells": [
  {
   "cell_type": "code",
   "execution_count": 1,
   "metadata": {},
   "outputs": [],
   "source": [
    "import pandas as pd"
   ]
  },
  {
   "cell_type": "code",
   "execution_count": 2,
   "metadata": {},
   "outputs": [
    {
     "data": {
      "text/html": [
       "<div>\n",
       "<style scoped>\n",
       "    .dataframe tbody tr th:only-of-type {\n",
       "        vertical-align: middle;\n",
       "    }\n",
       "\n",
       "    .dataframe tbody tr th {\n",
       "        vertical-align: top;\n",
       "    }\n",
       "\n",
       "    .dataframe thead th {\n",
       "        text-align: right;\n",
       "    }\n",
       "</style>\n",
       "<table border=\"1\" class=\"dataframe\">\n",
       "  <thead>\n",
       "    <tr style=\"text-align: right;\">\n",
       "      <th></th>\n",
       "      <th>Product's Title</th>\n",
       "      <th>Qty</th>\n",
       "    </tr>\n",
       "  </thead>\n",
       "  <tbody>\n",
       "    <tr>\n",
       "      <th>0</th>\n",
       "      <td>Baker Out Medium Tote Bag</td>\n",
       "      <td>4.0</td>\n",
       "    </tr>\n",
       "    <tr>\n",
       "      <th>1</th>\n",
       "      <td>Mini 'Jewelled Satchel' Bag</td>\n",
       "      <td>2.0</td>\n",
       "    </tr>\n",
       "    <tr>\n",
       "      <th>2</th>\n",
       "      <td>Small Leather Skull Bag</td>\n",
       "      <td>4.0</td>\n",
       "    </tr>\n",
       "    <tr>\n",
       "      <th>3</th>\n",
       "      <td>Baker Out Medium Tote Bag</td>\n",
       "      <td>10.0</td>\n",
       "    </tr>\n",
       "    <tr>\n",
       "      <th>4</th>\n",
       "      <td>Biker Beltpack</td>\n",
       "      <td>1.0</td>\n",
       "    </tr>\n",
       "    <tr>\n",
       "      <th>5</th>\n",
       "      <td>'Mcqueen Graffiti' Leather Flat Pouch</td>\n",
       "      <td>1.0</td>\n",
       "    </tr>\n",
       "  </tbody>\n",
       "</table>\n",
       "</div>"
      ],
      "text/plain": [
       "                         Product's Title   Qty\n",
       "0              Baker Out Medium Tote Bag   4.0\n",
       "1            Mini 'Jewelled Satchel' Bag   2.0\n",
       "2                Small Leather Skull Bag   4.0\n",
       "3              Baker Out Medium Tote Bag  10.0\n",
       "4                         Biker Beltpack   1.0\n",
       "5  'Mcqueen Graffiti' Leather Flat Pouch   1.0"
      ]
     },
     "execution_count": 2,
     "metadata": {},
     "output_type": "execute_result"
    }
   ],
   "source": [
    "old_bags = pd.read_csv('test_data/test_bags.csv')\n",
    "old_bags[['Product\\'s Title', 'Qty']]"
   ]
  },
  {
   "cell_type": "code",
   "execution_count": 8,
   "metadata": {},
   "outputs": [
    {
     "data": {
      "text/html": [
       "<div>\n",
       "<style scoped>\n",
       "    .dataframe tbody tr th:only-of-type {\n",
       "        vertical-align: middle;\n",
       "    }\n",
       "\n",
       "    .dataframe tbody tr th {\n",
       "        vertical-align: top;\n",
       "    }\n",
       "\n",
       "    .dataframe thead th {\n",
       "        text-align: right;\n",
       "    }\n",
       "</style>\n",
       "<table border=\"1\" class=\"dataframe\">\n",
       "  <thead>\n",
       "    <tr style=\"text-align: right;\">\n",
       "      <th></th>\n",
       "      <th>Product's Title</th>\n",
       "      <th>Qty</th>\n",
       "      <th>Sku Styleisnow</th>\n",
       "    </tr>\n",
       "  </thead>\n",
       "  <tbody>\n",
       "    <tr>\n",
       "      <th>0</th>\n",
       "      <td>Baker Out Medium Tote Bag</td>\n",
       "      <td>4.0</td>\n",
       "      <td>232895ABS000001-AEV</td>\n",
       "    </tr>\n",
       "    <tr>\n",
       "      <th>1</th>\n",
       "      <td>Mini 'Jewelled Satchel' Bag</td>\n",
       "      <td>2.0</td>\n",
       "      <td>232527ABS000005-1000</td>\n",
       "    </tr>\n",
       "    <tr>\n",
       "      <th>2</th>\n",
       "      <td>Small Leather Skull Bag</td>\n",
       "      <td>2.0</td>\n",
       "      <td>232527ABS000006-1000</td>\n",
       "    </tr>\n",
       "    <tr>\n",
       "      <th>3</th>\n",
       "      <td>Baker Out Medium Tote Bag</td>\n",
       "      <td>10.0</td>\n",
       "      <td>232895ABS000002-AEV</td>\n",
       "    </tr>\n",
       "    <tr>\n",
       "      <th>4</th>\n",
       "      <td>Biker Beltpack</td>\n",
       "      <td>1.0</td>\n",
       "      <td>232527FMS000001-1000</td>\n",
       "    </tr>\n",
       "    <tr>\n",
       "      <th>5</th>\n",
       "      <td>'Mcqueen Graffiti' Leather Flat Pouch</td>\n",
       "      <td>0.0</td>\n",
       "      <td>232527FAV000002-1070</td>\n",
       "    </tr>\n",
       "  </tbody>\n",
       "</table>\n",
       "</div>"
      ],
      "text/plain": [
       "                         Product's Title   Qty        Sku Styleisnow\n",
       "0              Baker Out Medium Tote Bag   4.0   232895ABS000001-AEV\n",
       "1            Mini 'Jewelled Satchel' Bag   2.0  232527ABS000005-1000\n",
       "2                Small Leather Skull Bag   2.0  232527ABS000006-1000\n",
       "3              Baker Out Medium Tote Bag  10.0   232895ABS000002-AEV\n",
       "4                         Biker Beltpack   1.0  232527FMS000001-1000\n",
       "5  'Mcqueen Graffiti' Leather Flat Pouch   0.0  232527FAV000002-1070"
      ]
     },
     "execution_count": 8,
     "metadata": {},
     "output_type": "execute_result"
    }
   ],
   "source": [
    "new_bags = pd.read_csv('test_data/test_update_bags.csv')\n",
    "new_bags[['Product\\'s Title', 'Qty', 'Sku Styleisnow']]"
   ]
  },
  {
   "cell_type": "code",
   "execution_count": 5,
   "metadata": {},
   "outputs": [
    {
     "data": {
      "text/plain": [
       "Index(['Handle', 'Title', 'Body (HTML)', 'Vendor', 'Product Category', 'Type',\n",
       "       'Tags', 'Published', 'Option1 Name', 'Option1 Value',\n",
       "       ...\n",
       "       'Included / Added by Managed Markets',\n",
       "       'Price / Added by Managed Markets',\n",
       "       'Compare At Price / Added by Managed Markets', 'Included / Worldwide',\n",
       "       'Price / Worldwide', 'Compare At Price / Worldwide',\n",
       "       'Included / united kingdom', 'Price / united kingdom',\n",
       "       'Compare At Price / united kingdom', 'Status'],\n",
       "      dtype='object', length=105)"
      ]
     },
     "execution_count": 5,
     "metadata": {},
     "output_type": "execute_result"
    }
   ],
   "source": [
    "products = pd.read_csv('test_data/products_export.csv')\n",
    "products.columns"
   ]
  },
  {
   "cell_type": "code",
   "execution_count": 6,
   "metadata": {},
   "outputs": [
    {
     "name": "stdout",
     "output_type": "stream",
     "text": [
      "['Handle', 'Title', 'Body (HTML)', 'Vendor', 'Product Category', 'Type', 'Tags', 'Published', 'Option1 Name', 'Option1 Value', 'Option1 Linked To', 'Option2 Name', 'Option2 Value', 'Option2 Linked To', 'Option3 Name', 'Option3 Value', 'Option3 Linked To', 'Variant SKU', 'Variant Grams', 'Variant Inventory Tracker', 'Variant Inventory Policy', 'Variant Fulfillment Service', 'Variant Price', 'Variant Compare At Price', 'Variant Requires Shipping', 'Variant Taxable', 'Variant Barcode', 'Image Src', 'Image Position', 'Image Alt Text', 'Gift Card', 'SEO Title', 'SEO Description', 'Google Shopping / Google Product Category', 'Google Shopping / Gender', 'Google Shopping / Age Group', 'Google Shopping / MPN', 'Google Shopping / Condition', 'Google Shopping / Custom Product', 'Google Shopping / Custom Label 0', 'Google Shopping / Custom Label 1', 'Google Shopping / Custom Label 2', 'Google Shopping / Custom Label 3', 'Google Shopping / Custom Label 4', 'MATERIAL (product.metafields.category.details)', 'Lifestyle Product Type (product.metafields.category.lifestyle)', 'Clothing Product Type (product.metafields.clothing.category)', 'Accessory Height (product.metafields.custom.accessory_height)', 'Accessory Length (product.metafields.custom.accessory_length)', 'Accessory Width (product.metafields.custom.accessory_width)', 'Age Group (product.metafields.custom.age_group)', 'Bag Height (product.metafields.custom.bag_height)', 'Bag Length (product.metafields.custom.bag_length)', 'Bag Width (product.metafields.custom.bag_width)', 'Brand (product.metafields.custom.brand)', 'Brand Description (product.metafields.custom.brand_description)', 'Category (product.metafields.custom.category)', 'COLOR (FILTER) (product.metafields.custom.color)', 'color code (product.metafields.custom.color_code)', 'COLOR (VENDOR) (product.metafields.custom.color_detail)', 'condition (product.metafields.custom.condition)', 'Dimensions (H x L x W) (product.metafields.custom.dimensions)', 'filter department (product.metafields.custom.filter_department)', 'Format Size (product.metafields.custom.format_size)', 'Fragrance Type (product.metafields.custom.fragrance_type)', 'Full Season (product.metafields.custom.full_season)', 'gender (product.metafields.custom.gender)', 'HEEL HEIGHT (product.metafields.custom.heel_height)', 'Ingredients (product.metafields.custom.ingredients)', 'MADE IN (product.metafields.custom.made_in)', 'Season (product.metafields.custom.season)', 'Sizing Standard (product.metafields.custom.size_info)', 'SUPPLIER SKU (product.metafields.custom.supplier_sku)', 'Supplier SKU New (product.metafields.custom.supplier_sku_new)', 'Sustainability Collection (product.metafields.custom.sustainability_collection)', 'Year (product.metafields.custom.year)', 'Department (product.metafields.department.product)', 'Google: Custom Product (product.metafields.mm-google-shopping.custom_product)', 'Closure type (product.metafields.shopify.closure-type)', 'Color (product.metafields.shopify.color-pattern)', 'Footwear material (product.metafields.shopify.footwear-material)', 'Heel height type (product.metafields.shopify.heel-height-type)', 'Sandal style (product.metafields.shopify.sandal-style)', 'Scent (product.metafields.shopify.scent)', 'Target gender (product.metafields.shopify.target-gender)', 'Complementary products (product.metafields.shopify--discovery--product_recommendation.complementary_products)', 'Related products (product.metafields.shopify--discovery--product_recommendation.related_products)', 'Related products settings (product.metafields.shopify--discovery--product_recommendation.related_products_display)', 'Variant Image', 'Variant Weight Unit', 'Variant Tax Code', 'Cost per item', 'Included / United States', 'Price / United States', 'Compare At Price / United States', 'Included / Added by Managed Markets', 'Price / Added by Managed Markets', 'Compare At Price / Added by Managed Markets', 'Included / Worldwide', 'Price / Worldwide', 'Compare At Price / Worldwide', 'Included / united kingdom', 'Price / united kingdom', 'Compare At Price / united kingdom', 'Status']\n"
     ]
    }
   ],
   "source": [
    "print(products.columns.tolist())"
   ]
  },
  {
   "cell_type": "code",
   "execution_count": 7,
   "metadata": {},
   "outputs": [
    {
     "data": {
      "text/html": [
       "<div>\n",
       "<style scoped>\n",
       "    .dataframe tbody tr th:only-of-type {\n",
       "        vertical-align: middle;\n",
       "    }\n",
       "\n",
       "    .dataframe tbody tr th {\n",
       "        vertical-align: top;\n",
       "    }\n",
       "\n",
       "    .dataframe thead th {\n",
       "        text-align: right;\n",
       "    }\n",
       "</style>\n",
       "<table border=\"1\" class=\"dataframe\">\n",
       "  <thead>\n",
       "    <tr style=\"text-align: right;\">\n",
       "      <th></th>\n",
       "      <th>Handle</th>\n",
       "    </tr>\n",
       "  </thead>\n",
       "  <tbody>\n",
       "    <tr>\n",
       "      <th>0</th>\n",
       "      <td>baroque-sea-jersey-skirt</td>\n",
       "    </tr>\n",
       "    <tr>\n",
       "      <th>1</th>\n",
       "      <td>baroque-sea-jersey-skirt</td>\n",
       "    </tr>\n",
       "    <tr>\n",
       "      <th>2</th>\n",
       "      <td>baroque-sea-jersey-skirt</td>\n",
       "    </tr>\n",
       "    <tr>\n",
       "      <th>3</th>\n",
       "      <td>baroque-sea-jersey-skirt</td>\n",
       "    </tr>\n",
       "    <tr>\n",
       "      <th>4</th>\n",
       "      <td>baroque-sea-jersey-skirt</td>\n",
       "    </tr>\n",
       "    <tr>\n",
       "      <th>...</th>\n",
       "      <td>...</td>\n",
       "    </tr>\n",
       "    <tr>\n",
       "      <th>561</th>\n",
       "      <td>greystone-active-flex-down-jacket-1</td>\n",
       "    </tr>\n",
       "    <tr>\n",
       "      <th>562</th>\n",
       "      <td>greystone-active-flex-down-jacket-1</td>\n",
       "    </tr>\n",
       "    <tr>\n",
       "      <th>563</th>\n",
       "      <td>chic-ven</td>\n",
       "    </tr>\n",
       "    <tr>\n",
       "      <th>564</th>\n",
       "      <td>chic-ven</td>\n",
       "    </tr>\n",
       "    <tr>\n",
       "      <th>565</th>\n",
       "      <td>chic-ven</td>\n",
       "    </tr>\n",
       "  </tbody>\n",
       "</table>\n",
       "<p>566 rows × 1 columns</p>\n",
       "</div>"
      ],
      "text/plain": [
       "                                  Handle\n",
       "0               baroque-sea-jersey-skirt\n",
       "1               baroque-sea-jersey-skirt\n",
       "2               baroque-sea-jersey-skirt\n",
       "3               baroque-sea-jersey-skirt\n",
       "4               baroque-sea-jersey-skirt\n",
       "..                                   ...\n",
       "561  greystone-active-flex-down-jacket-1\n",
       "562  greystone-active-flex-down-jacket-1\n",
       "563                             chic-ven\n",
       "564                             chic-ven\n",
       "565                             chic-ven\n",
       "\n",
       "[566 rows x 1 columns]"
      ]
     },
     "execution_count": 7,
     "metadata": {},
     "output_type": "execute_result"
    }
   ],
   "source": []
  },
  {
   "cell_type": "code",
   "execution_count": null,
   "metadata": {},
   "outputs": [],
   "source": []
  }
 ],
 "metadata": {
  "kernelspec": {
   "display_name": "general",
   "language": "python",
   "name": "python3"
  },
  "language_info": {
   "codemirror_mode": {
    "name": "ipython",
    "version": 3
   },
   "file_extension": ".py",
   "mimetype": "text/x-python",
   "name": "python",
   "nbconvert_exporter": "python",
   "pygments_lexer": "ipython3",
   "version": "3.10.14"
  }
 },
 "nbformat": 4,
 "nbformat_minor": 2
}
